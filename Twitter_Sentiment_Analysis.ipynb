{
  "nbformat": 4,
  "nbformat_minor": 0,
  "metadata": {
    "colab": {
      "name": "Twitter Sentiment Analysis.ipynb",
      "provenance": [],
      "collapsed_sections": [],
      "authorship_tag": "ABX9TyMy158ZCpLk78JkTvCbdBE8",
      "include_colab_link": true
    },
    "kernelspec": {
      "name": "python3",
      "display_name": "Python 3"
    }
  },
  "cells": [
    {
      "cell_type": "markdown",
      "metadata": {
        "id": "view-in-github",
        "colab_type": "text"
      },
      "source": [
        "<a href=\"https://colab.research.google.com/github/aurorarch/Twitter-Sentiment/blob/main/Twitter_Sentiment_Analysis.ipynb\" target=\"_parent\"><img src=\"https://colab.research.google.com/assets/colab-badge.svg\" alt=\"Open In Colab\"/></a>"
      ]
    },
    {
      "cell_type": "code",
      "metadata": {
        "id": "TD6x68y2Op_z"
      },
      "source": [
        "import csv\r\n",
        "import requests\r\n",
        "\r\n",
        "CSV_URL = 'https://raw.githubusercontent.com/sharmaroshan/Twitter-Sentiment-Analysis/master/train_tweet.csv'\r\n",
        "\r\n",
        "with requests.Session() as s:\r\n",
        "    download = s.get(CSV_URL)\r\n",
        "\r\n",
        "    decoded_content = download.content.decode('utf-8')\r\n",
        "\r\n",
        "    cr = csv.reader(decoded_content.splitlines(), delimiter=',')\r\n",
        "    my_list = list(cr)"
      ],
      "execution_count": null,
      "outputs": []
    },
    {
      "cell_type": "code",
      "metadata": {
        "id": "Dvdq6iKDSUQ1"
      },
      "source": [
        "import pandas as pd\r\n",
        "\r\n",
        "data = pd.DataFrame(my_list,columns = my_list[0])\r\n",
        "data = data[1:]"
      ],
      "execution_count": null,
      "outputs": []
    },
    {
      "cell_type": "code",
      "metadata": {
        "colab": {
          "base_uri": "https://localhost:8080/",
          "height": 212
        },
        "id": "7rlP3QHCTThl",
        "outputId": "67d2a6e6-14a3-45ab-984e-64bdded3ff3b"
      },
      "source": [
        "print(data.shape)\r\n",
        "data.head()"
      ],
      "execution_count": null,
      "outputs": [
        {
          "output_type": "stream",
          "text": [
            "(31962, 2)\n"
          ],
          "name": "stdout"
        },
        {
          "output_type": "execute_result",
          "data": {
            "text/html": [
              "<div>\n",
              "<style scoped>\n",
              "    .dataframe tbody tr th:only-of-type {\n",
              "        vertical-align: middle;\n",
              "    }\n",
              "\n",
              "    .dataframe tbody tr th {\n",
              "        vertical-align: top;\n",
              "    }\n",
              "\n",
              "    .dataframe thead th {\n",
              "        text-align: right;\n",
              "    }\n",
              "</style>\n",
              "<table border=\"1\" class=\"dataframe\">\n",
              "  <thead>\n",
              "    <tr style=\"text-align: right;\">\n",
              "      <th></th>\n",
              "      <th>label</th>\n",
              "      <th>tweet</th>\n",
              "    </tr>\n",
              "  </thead>\n",
              "  <tbody>\n",
              "    <tr>\n",
              "      <th>0</th>\n",
              "      <td>0</td>\n",
              "      <td>@user when a father is dysfunctional and is s...</td>\n",
              "    </tr>\n",
              "    <tr>\n",
              "      <th>1</th>\n",
              "      <td>0</td>\n",
              "      <td>@user @user thanks for #lyft credit i can't us...</td>\n",
              "    </tr>\n",
              "    <tr>\n",
              "      <th>2</th>\n",
              "      <td>0</td>\n",
              "      <td>bihday your majesty</td>\n",
              "    </tr>\n",
              "    <tr>\n",
              "      <th>3</th>\n",
              "      <td>0</td>\n",
              "      <td>#model   i love u take with u all the time in ...</td>\n",
              "    </tr>\n",
              "    <tr>\n",
              "      <th>4</th>\n",
              "      <td>0</td>\n",
              "      <td>factsguide: society now    #motivation</td>\n",
              "    </tr>\n",
              "  </tbody>\n",
              "</table>\n",
              "</div>"
            ],
            "text/plain": [
              "  label                                              tweet\n",
              "0     0   @user when a father is dysfunctional and is s...\n",
              "1     0  @user @user thanks for #lyft credit i can't us...\n",
              "2     0                                bihday your majesty\n",
              "3     0  #model   i love u take with u all the time in ...\n",
              "4     0             factsguide: society now    #motivation"
            ]
          },
          "metadata": {
            "tags": []
          },
          "execution_count": 32
        }
      ]
    },
    {
      "cell_type": "code",
      "metadata": {
        "id": "Idv9o50hTweh"
      },
      "source": [
        "data.drop(['id'],axis=1,inplace=True)"
      ],
      "execution_count": null,
      "outputs": []
    },
    {
      "cell_type": "code",
      "metadata": {
        "colab": {
          "base_uri": "https://localhost:8080/"
        },
        "id": "J0Q2SQlbbEma",
        "outputId": "040349aa-17c7-4bc2-bee7-cf33b579a465"
      },
      "source": [
        "data.label.value_counts()"
      ],
      "execution_count": null,
      "outputs": [
        {
          "output_type": "execute_result",
          "data": {
            "text/plain": [
              "0    29720\n",
              "1     2242\n",
              "Name: label, dtype: int64"
            ]
          },
          "metadata": {
            "tags": []
          },
          "execution_count": 5
        }
      ]
    },
    {
      "cell_type": "code",
      "metadata": {
        "colab": {
          "base_uri": "https://localhost:8080/"
        },
        "id": "fMo38n7UbZ8g",
        "outputId": "f191ca65-4140-46f8-9f12-cf5a0e7f0587"
      },
      "source": [
        "data.iloc[4]"
      ],
      "execution_count": null,
      "outputs": [
        {
          "output_type": "execute_result",
          "data": {
            "text/plain": [
              "label    None\n",
              "tweet    None\n",
              "Name: 5, dtype: object"
            ]
          },
          "metadata": {
            "tags": []
          },
          "execution_count": 6
        }
      ]
    },
    {
      "cell_type": "code",
      "metadata": {
        "colab": {
          "base_uri": "https://localhost:8080/"
        },
        "id": "XIive8xrcFQS",
        "outputId": "e004b17d-94f1-4bb6-8739-b71739438a55"
      },
      "source": [
        "#removing rows that contain none\r\n",
        "data = data.drop(data[~data['label'].isin(['0','1'])].index)\r\n",
        "data = data.reset_index(drop=True)\r\n",
        "data.shape"
      ],
      "execution_count": null,
      "outputs": [
        {
          "output_type": "execute_result",
          "data": {
            "text/plain": [
              "(31962, 2)"
            ]
          },
          "metadata": {
            "tags": []
          },
          "execution_count": 7
        }
      ]
    },
    {
      "cell_type": "code",
      "metadata": {
        "id": "15XgJzY6Rm1v"
      },
      "source": [
        "import re\r\n",
        "import numpy as np\r\n",
        "import matplotlib.pyplot as plt\r\n",
        "import seaborn as sns\r\n",
        "import string\r\n",
        "import warnings\r\n",
        "warnings.filterwarnings(\"ignore\", category=DeprecationWarning)\r\n",
        "\r\n",
        "%matplotlib inline"
      ],
      "execution_count": null,
      "outputs": []
    },
    {
      "cell_type": "code",
      "metadata": {
        "colab": {
          "base_uri": "https://localhost:8080/",
          "height": 296
        },
        "id": "wtPum0HVTaGG",
        "outputId": "c3c21ee0-d4aa-487d-b1be-5261fc767293"
      },
      "source": [
        "sns.countplot(x = 'label', data=data)"
      ],
      "execution_count": null,
      "outputs": [
        {
          "output_type": "execute_result",
          "data": {
            "text/plain": [
              "<matplotlib.axes._subplots.AxesSubplot at 0x7f47c9def518>"
            ]
          },
          "metadata": {
            "tags": []
          },
          "execution_count": 9
        },
        {
          "output_type": "display_data",
          "data": {
            "image/png": "[encoded data removed]",
            "text/plain": [
              "<Figure size 432x288 with 1 Axes>"
            ]
          },
          "metadata": {
            "tags": [],
            "needs_background": "light"
          }
        }
      ]
    },
    {
      "cell_type": "code",
      "metadata": {
        "id": "FA-9lZtvPEon"
      },
      "source": [
        "data['label'] = data['label'].astype(int)"
      ],
      "execution_count": null,
      "outputs": []
    },
    {
      "cell_type": "code",
      "metadata": {
        "colab": {
          "base_uri": "https://localhost:8080/"
        },
        "id": "zSmWiNoZTk-Z",
        "outputId": "4daab747-dbba-4e1e-e91c-85f6c6af9769"
      },
      "source": [
        "import nltk\r\n",
        "nltk.download('stopwords')\r\n",
        "nltk.download('wordnet')\r\n",
        "from nltk.stem.porter import PorterStemmer\r\n",
        "from nltk.stem import WordNetLemmatizer\r\n",
        "from nltk.corpus import stopwords"
      ],
      "execution_count": null,
      "outputs": [
        {
          "output_type": "stream",
          "text": [
            "[nltk_data] Downloading package stopwords to /root/nltk_data...\n",
            "[nltk_data]   Unzipping corpora/stopwords.zip.\n",
            "[nltk_data] Downloading package wordnet to /root/nltk_data...\n",
            "[nltk_data]   Unzipping corpora/wordnet.zip.\n"
          ],
          "name": "stdout"
        }
      ]
    },
    {
      "cell_type": "code",
      "metadata": {
        "id": "SDGxiHOKWdlB"
      },
      "source": [
        "def clean_text(x):\r\n",
        "  x = re.sub(\"(@[A-Za-z0-9]+)|([^0-9A-Za-z \\t])|(\\w+:\\/\\/\\S+)|[0-9]\",'',x)\r\n",
        "  x = x.lower()\r\n",
        "  x = x.split()\r\n",
        "  x = [i for i in x if not i in stopwords]\r\n",
        "  x = \" \".join(x)\r\n",
        "  return x"
      ],
      "execution_count": null,
      "outputs": []
    },
    {
      "cell_type": "code",
      "metadata": {
        "colab": {
          "base_uri": "https://localhost:8080/"
        },
        "id": "8PQOhp4WVGv7",
        "outputId": "f7d6bd54-1776-4c2d-dd58-7a014539d076"
      },
      "source": [
        "corpus = []\r\n",
        "\r\n",
        "ps = PorterStemmer()\r\n",
        "stopwords = set(stopwords.words('english'))\r\n",
        "\r\n",
        "for i in range (data.shape[0]):\r\n",
        "  text = clean_text(data.tweet[i])\r\n",
        "  corpus.append(text)\r\n",
        "\r\n",
        "print(np.shape(corpus))"
      ],
      "execution_count": null,
      "outputs": [
        {
          "output_type": "stream",
          "text": [
            "(31962,)\n"
          ],
          "name": "stdout"
        }
      ]
    },
    {
      "cell_type": "code",
      "metadata": {
        "id": "gdcdZ1FWcqq_"
      },
      "source": [
        "bagofwords = []\r\n",
        "\r\n",
        "for i in range(data.shape[0]):\r\n",
        "  words = corpus[i].split()\r\n",
        "  bagofwords.append(words)"
      ],
      "execution_count": null,
      "outputs": []
    },
    {
      "cell_type": "code",
      "metadata": {
        "colab": {
          "base_uri": "https://localhost:8080/"
        },
        "id": "Xx2QRYFAdCbq",
        "outputId": "a3be98b0-c645-44b9-cc6b-fd0992df7765"
      },
      "source": [
        "import itertools\r\n",
        "import collections\r\n",
        "\r\n",
        "all_words = list(itertools.chain(*bagofwords))\r\n",
        "print(all_words[0:20])\r\n",
        "\r\n",
        "freq = collections.Counter(all_words)\r\n",
        "freq.most_common(20)"
      ],
      "execution_count": null,
      "outputs": [
        {
          "output_type": "stream",
          "text": [
            "['father', 'dysfunctional', 'selfish', 'drags', 'kids', 'dysfunction', 'run', 'thanks', 'lyft', 'credit', 'cant', 'use', 'cause', 'dont', 'offer', 'wheelchair', 'vans', 'pdx', 'disapointed', 'getthanked']\n"
          ],
          "name": "stdout"
        },
        {
          "output_type": "execute_result",
          "data": {
            "text/plain": [
              "[('love', 2720),\n",
              " ('day', 2286),\n",
              " ('happy', 1688),\n",
              " ('amp', 1607),\n",
              " ('im', 1155),\n",
              " ('u', 1148),\n",
              " ('time', 1126),\n",
              " ('life', 1124),\n",
              " ('like', 1053),\n",
              " ('today', 1008),\n",
              " ('new', 987),\n",
              " ('positive', 934),\n",
              " ('thankful', 925),\n",
              " ('get', 919),\n",
              " ('people', 865),\n",
              " ('bihday', 852),\n",
              " ('good', 850),\n",
              " ('cant', 813),\n",
              " ('one', 782),\n",
              " ('see', 757)]"
            ]
          },
          "metadata": {
            "tags": []
          },
          "execution_count": 14
        }
      ]
    },
    {
      "cell_type": "code",
      "metadata": {
        "colab": {
          "base_uri": "https://localhost:8080/",
          "height": 195
        },
        "id": "i162JUPdeKLE",
        "outputId": "b925dcea-74ca-4a1e-96ac-078030fef826"
      },
      "source": [
        "freq_df = pd.DataFrame(freq.most_common(20),columns=['word','freq'])\r\n",
        "freq_df.head()"
      ],
      "execution_count": null,
      "outputs": [
        {
          "output_type": "execute_result",
          "data": {
            "text/html": [
              "<div>\n",
              "<style scoped>\n",
              "    .dataframe tbody tr th:only-of-type {\n",
              "        vertical-align: middle;\n",
              "    }\n",
              "\n",
              "    .dataframe tbody tr th {\n",
              "        vertical-align: top;\n",
              "    }\n",
              "\n",
              "    .dataframe thead th {\n",
              "        text-align: right;\n",
              "    }\n",
              "</style>\n",
              "<table border=\"1\" class=\"dataframe\">\n",
              "  <thead>\n",
              "    <tr style=\"text-align: right;\">\n",
              "      <th></th>\n",
              "      <th>word</th>\n",
              "      <th>freq</th>\n",
              "    </tr>\n",
              "  </thead>\n",
              "  <tbody>\n",
              "    <tr>\n",
              "      <th>0</th>\n",
              "      <td>love</td>\n",
              "      <td>2720</td>\n",
              "    </tr>\n",
              "    <tr>\n",
              "      <th>1</th>\n",
              "      <td>day</td>\n",
              "      <td>2286</td>\n",
              "    </tr>\n",
              "    <tr>\n",
              "      <th>2</th>\n",
              "      <td>happy</td>\n",
              "      <td>1688</td>\n",
              "    </tr>\n",
              "    <tr>\n",
              "      <th>3</th>\n",
              "      <td>amp</td>\n",
              "      <td>1607</td>\n",
              "    </tr>\n",
              "    <tr>\n",
              "      <th>4</th>\n",
              "      <td>im</td>\n",
              "      <td>1155</td>\n",
              "    </tr>\n",
              "  </tbody>\n",
              "</table>\n",
              "</div>"
            ],
            "text/plain": [
              "    word  freq\n",
              "0   love  2720\n",
              "1    day  2286\n",
              "2  happy  1688\n",
              "3    amp  1607\n",
              "4     im  1155"
            ]
          },
          "metadata": {
            "tags": []
          },
          "execution_count": 15
        }
      ]
    },
    {
      "cell_type": "code",
      "metadata": {
        "colab": {
          "base_uri": "https://localhost:8080/",
          "height": 282
        },
        "id": "jcvjkL9wgIyt",
        "outputId": "d7ff90d0-d7a3-41c9-d497-5a71e920f1e0"
      },
      "source": [
        "freq_df.sort_values(by='freq').plot.barh(x='word',y='freq',color='red')"
      ],
      "execution_count": null,
      "outputs": [
        {
          "output_type": "execute_result",
          "data": {
            "text/plain": [
              "<matplotlib.axes._subplots.AxesSubplot at 0x7f47c0cc27f0>"
            ]
          },
          "metadata": {
            "tags": []
          },
          "execution_count": 16
        },
        {
          "output_type": "display_data",
          "data": {
            "image/png": "[encoded data removed]",
            "text/plain": [
              "<Figure size 432x288 with 1 Axes>"
            ]
          },
          "metadata": {
            "tags": [],
            "needs_background": "light"
          }
        }
      ]
    },
    {
      "cell_type": "code",
      "metadata": {
        "id": "nXFtCDk7gmAo",
        "colab": {
          "base_uri": "https://localhost:8080/"
        },
        "outputId": "2a64211d-b3c6-40b2-fc81-576bc2914dd3"
      },
      "source": [
        "from textblob import TextBlob\r\n",
        "sentiment = [TextBlob(tweet) for tweet in corpus]\r\n",
        "print(sentiment[99])\r\n",
        "print(sentiment[99].polarity)"
      ],
      "execution_count": null,
      "outputs": [
        {
          "output_type": "stream",
          "text": [
            "personalised gbp get shop cool home fun\n",
            "0.32499999999999996\n"
          ],
          "name": "stdout"
        }
      ]
    },
    {
      "cell_type": "code",
      "metadata": {
        "colab": {
          "base_uri": "https://localhost:8080/",
          "height": 343
        },
        "id": "Qnjg18zy2fOP",
        "outputId": "1dc7f30e-d9f0-4be1-9f0f-7f196c0bfeea"
      },
      "source": [
        "sentiment_df = [[tweet.sentiment.polarity, str(tweet)] for tweet in sentiment]\r\n",
        "sentiment_df = pd.DataFrame(sentiment_df, columns=['polarity','tweets'])\r\n",
        "sentiment_df.sort_values(by='polarity',ascending=False).head(10)"
      ],
      "execution_count": null,
      "outputs": [
        {
          "output_type": "execute_result",
          "data": {
            "text/html": [
              "<div>\n",
              "<style scoped>\n",
              "    .dataframe tbody tr th:only-of-type {\n",
              "        vertical-align: middle;\n",
              "    }\n",
              "\n",
              "    .dataframe tbody tr th {\n",
              "        vertical-align: top;\n",
              "    }\n",
              "\n",
              "    .dataframe thead th {\n",
              "        text-align: right;\n",
              "    }\n",
              "</style>\n",
              "<table border=\"1\" class=\"dataframe\">\n",
              "  <thead>\n",
              "    <tr style=\"text-align: right;\">\n",
              "      <th></th>\n",
              "      <th>polarity</th>\n",
              "      <th>tweets</th>\n",
              "    </tr>\n",
              "  </thead>\n",
              "  <tbody>\n",
              "    <tr>\n",
              "      <th>12454</th>\n",
              "      <td>1.0</td>\n",
              "      <td>day u c best luck santa ono missed</td>\n",
              "    </tr>\n",
              "    <tr>\n",
              "      <th>14271</th>\n",
              "      <td>1.0</td>\n",
              "      <td>always perfect formentera wildisland longweeke...</td>\n",
              "    </tr>\n",
              "    <tr>\n",
              "      <th>20335</th>\n",
              "      <td>1.0</td>\n",
              "      <td>best peach pancakes hash browns wildwood vacat...</td>\n",
              "    </tr>\n",
              "    <tr>\n",
              "      <th>28141</th>\n",
              "      <td>1.0</td>\n",
              "      <td>kids campers best holiday u need best camperva...</td>\n",
              "    </tr>\n",
              "    <tr>\n",
              "      <th>30457</th>\n",
              "      <td>1.0</td>\n",
              "      <td>simply best</td>\n",
              "    </tr>\n",
              "    <tr>\n",
              "      <th>23918</th>\n",
              "      <td>1.0</td>\n",
              "      <td>church best place sunday morning stayinlove</td>\n",
              "    </tr>\n",
              "    <tr>\n",
              "      <th>24560</th>\n",
              "      <td>1.0</td>\n",
              "      <td>fathers day wonderful dads</td>\n",
              "    </tr>\n",
              "    <tr>\n",
              "      <th>8726</th>\n",
              "      <td>1.0</td>\n",
              "      <td>best homeopathic remedies anxiety altwaystohea...</td>\n",
              "    </tr>\n",
              "    <tr>\n",
              "      <th>9221</th>\n",
              "      <td>1.0</td>\n",
              "      <td>expes explain best way deal friends amp family</td>\n",
              "    </tr>\n",
              "    <tr>\n",
              "      <th>4598</th>\n",
              "      <td>1.0</td>\n",
              "      <td>would rather involved bullshit politics commun...</td>\n",
              "    </tr>\n",
              "  </tbody>\n",
              "</table>\n",
              "</div>"
            ],
            "text/plain": [
              "       polarity                                             tweets\n",
              "12454       1.0                 day u c best luck santa ono missed\n",
              "14271       1.0  always perfect formentera wildisland longweeke...\n",
              "20335       1.0  best peach pancakes hash browns wildwood vacat...\n",
              "28141       1.0  kids campers best holiday u need best camperva...\n",
              "30457       1.0                                        simply best\n",
              "23918       1.0        church best place sunday morning stayinlove\n",
              "24560       1.0                         fathers day wonderful dads\n",
              "8726        1.0  best homeopathic remedies anxiety altwaystohea...\n",
              "9221        1.0     expes explain best way deal friends amp family\n",
              "4598        1.0  would rather involved bullshit politics commun..."
            ]
          },
          "metadata": {
            "tags": []
          },
          "execution_count": 18
        }
      ]
    },
    {
      "cell_type": "code",
      "metadata": {
        "colab": {
          "base_uri": "https://localhost:8080/",
          "height": 314
        },
        "id": "dT0mDBfo4rZH",
        "outputId": "9d667466-7500-4954-ecad-dd85b32eac32"
      },
      "source": [
        "sentiment_df.hist(bins=20)"
      ],
      "execution_count": null,
      "outputs": [
        {
          "output_type": "execute_result",
          "data": {
            "text/plain": [
              "array([[<matplotlib.axes._subplots.AxesSubplot object at 0x7f47bfe60240>]],\n",
              "      dtype=object)"
            ]
          },
          "metadata": {
            "tags": []
          },
          "execution_count": 19
        },
        {
          "output_type": "display_data",
          "data": {
            "image/png": "[encoded data removed]",
            "text/plain": [
              "<Figure size 432x288 with 1 Axes>"
            ]
          },
          "metadata": {
            "tags": [],
            "needs_background": "light"
          }
        }
      ]
    },
    {
      "cell_type": "code",
      "metadata": {
        "id": "RAuw_GQCZLYB"
      },
      "source": [
        "TXT_URL = \"https://raw.githubusercontent.com/fnielsen/afinn/master/afinn/data/AFINN-111.txt\"\r\n",
        "\r\n",
        "with requests.Session() as s:\r\n",
        "    download = s.get(TXT_URL)\r\n",
        "\r\n",
        "    decoded_content = download.content.decode('utf-8')\r\n",
        "\r\n",
        "    cr = csv.reader(decoded_content.splitlines(), delimiter='\\t')\r\n",
        "    text_list = list(cr)"
      ],
      "execution_count": null,
      "outputs": []
    },
    {
      "cell_type": "code",
      "metadata": {
        "id": "lR704zZ7qxwr"
      },
      "source": [
        "word_dic = {}\r\n",
        "for elem in text_list:\r\n",
        "  word_dic[elem[0]] = elem[1]"
      ],
      "execution_count": null,
      "outputs": []
    },
    {
      "cell_type": "code",
      "metadata": {
        "id": "nGyKFwjnrEZy"
      },
      "source": [
        "word_dic"
      ],
      "execution_count": null,
      "outputs": []
    },
    {
      "cell_type": "code",
      "metadata": {
        "id": "oSQLigchZ5y9"
      },
      "source": [
        "strength = []\r\n",
        "for tweet in bagofwords:\r\n",
        "  score = 0\r\n",
        "  for word in tweet:\r\n",
        "    if word in word_dic.keys():\r\n",
        "      score = score + int(word_dic.get(word))\r\n",
        "  strength.append(score)"
      ],
      "execution_count": null,
      "outputs": []
    },
    {
      "cell_type": "code",
      "metadata": {
        "id": "EmOQDd_xqNmD",
        "colab": {
          "base_uri": "https://localhost:8080/"
        },
        "outputId": "820b23e6-1027-4f10-b5ab-c5cb6888ee34"
      },
      "source": [
        "strength"
      ],
      "execution_count": null,
      "outputs": [
        {
          "output_type": "execute_result",
          "data": {
            "text/plain": [
              "[-6,\n",
              " 2,\n",
              " 0,\n",
              " 3,\n",
              " 1,\n",
              " -1,\n",
              " 0,\n",
              " -3,\n",
              " 3,\n",
              " 2,\n",
              " 0,\n",
              " -3,\n",
              " 0,\n",
              " 0,\n",
              " 0,\n",
              " 0,\n",
              " 6,\n",
              " 1,\n",
              " 2,\n",
              " 0,\n",
              " 1,\n",
              " -1,\n",
              " 3,\n",
              " 0,\n",
              " 0,\n",
              " 6,\n",
              " 5,\n",
              " 3,\n",
              " 3,\n",
              " 0,\n",
              " 5,\n",
              " 0,\n",
              " 3,\n",
              " -2,\n",
              " 1,\n",
              " 1,\n",
              " 0,\n",
              " 0,\n",
              " -1,\n",
              " 8,\n",
              " 0,\n",
              " 5,\n",
              " 1,\n",
              " 1,\n",
              " 6,\n",
              " 6,\n",
              " 3,\n",
              " -2,\n",
              " 1,\n",
              " 3,\n",
              " 0,\n",
              " 3,\n",
              " 0,\n",
              " 0,\n",
              " 8,\n",
              " 0,\n",
              " 4,\n",
              " 3,\n",
              " 0,\n",
              " 0,\n",
              " 3,\n",
              " 0,\n",
              " 2,\n",
              " 0,\n",
              " 1,\n",
              " -2,\n",
              " 3,\n",
              " 3,\n",
              " 3,\n",
              " 4,\n",
              " 2,\n",
              " 4,\n",
              " 0,\n",
              " 1,\n",
              " 2,\n",
              " -1,\n",
              " 0,\n",
              " 0,\n",
              " 0,\n",
              " 2,\n",
              " 0,\n",
              " 2,\n",
              " 0,\n",
              " -6,\n",
              " 4,\n",
              " 3,\n",
              " 0,\n",
              " 0,\n",
              " 0,\n",
              " 0,\n",
              " 2,\n",
              " 0,\n",
              " 1,\n",
              " 2,\n",
              " 2,\n",
              " 0,\n",
              " 3,\n",
              " 0,\n",
              " 0,\n",
              " 5,\n",
              " -2,\n",
              " -1,\n",
              " 0,\n",
              " 0,\n",
              " 0,\n",
              " 9,\n",
              " -3,\n",
              " 0,\n",
              " 0,\n",
              " 3,\n",
              " 0,\n",
              " -1,\n",
              " 2,\n",
              " 3,\n",
              " -2,\n",
              " 0,\n",
              " 8,\n",
              " 3,\n",
              " 5,\n",
              " -4,\n",
              " 0,\n",
              " -3,\n",
              " -3,\n",
              " 3,\n",
              " -2,\n",
              " 0,\n",
              " 0,\n",
              " -5,\n",
              " 2,\n",
              " -3,\n",
              " 9,\n",
              " -2,\n",
              " 0,\n",
              " 2,\n",
              " -5,\n",
              " 0,\n",
              " 3,\n",
              " 3,\n",
              " 6,\n",
              " 0,\n",
              " 0,\n",
              " 0,\n",
              " 0,\n",
              " -5,\n",
              " 3,\n",
              " 0,\n",
              " 0,\n",
              " 0,\n",
              " 10,\n",
              " 4,\n",
              " 9,\n",
              " -2,\n",
              " 0,\n",
              " -1,\n",
              " 0,\n",
              " -8,\n",
              " -2,\n",
              " 6,\n",
              " 0,\n",
              " 0,\n",
              " 0,\n",
              " 0,\n",
              " 3,\n",
              " 0,\n",
              " 4,\n",
              " 3,\n",
              " 3,\n",
              " 0,\n",
              " -2,\n",
              " 1,\n",
              " 4,\n",
              " 0,\n",
              " 0,\n",
              " -2,\n",
              " -2,\n",
              " 4,\n",
              " -9,\n",
              " 6,\n",
              " 0,\n",
              " 0,\n",
              " -5,\n",
              " 8,\n",
              " 3,\n",
              " 0,\n",
              " 3,\n",
              " 0,\n",
              " 1,\n",
              " 1,\n",
              " -1,\n",
              " 6,\n",
              " 6,\n",
              " 12,\n",
              " 0,\n",
              " 3,\n",
              " -2,\n",
              " 0,\n",
              " 1,\n",
              " -3,\n",
              " 1,\n",
              " 0,\n",
              " 2,\n",
              " 2,\n",
              " 0,\n",
              " 4,\n",
              " 6,\n",
              " -3,\n",
              " 0,\n",
              " 8,\n",
              " 3,\n",
              " -10,\n",
              " -3,\n",
              " 6,\n",
              " 2,\n",
              " 0,\n",
              " 2,\n",
              " 4,\n",
              " -4,\n",
              " 0,\n",
              " 3,\n",
              " 1,\n",
              " 0,\n",
              " 9,\n",
              " 6,\n",
              " 0,\n",
              " 0,\n",
              " 0,\n",
              " 1,\n",
              " 0,\n",
              " 0,\n",
              " 0,\n",
              " 2,\n",
              " 1,\n",
              " 1,\n",
              " 5,\n",
              " 5,\n",
              " 7,\n",
              " 0,\n",
              " 0,\n",
              " 0,\n",
              " 3,\n",
              " 0,\n",
              " 3,\n",
              " 2,\n",
              " 3,\n",
              " -3,\n",
              " 3,\n",
              " 4,\n",
              " 0,\n",
              " 0,\n",
              " 3,\n",
              " 3,\n",
              " -3,\n",
              " 3,\n",
              " -10,\n",
              " 1,\n",
              " 0,\n",
              " 7,\n",
              " -2,\n",
              " 2,\n",
              " 4,\n",
              " 6,\n",
              " 0,\n",
              " 2,\n",
              " 0,\n",
              " -2,\n",
              " 0,\n",
              " -2,\n",
              " 3,\n",
              " 3,\n",
              " 0,\n",
              " 0,\n",
              " -3,\n",
              " 0,\n",
              " 3,\n",
              " 3,\n",
              " 1,\n",
              " 4,\n",
              " -2,\n",
              " 0,\n",
              " 3,\n",
              " -2,\n",
              " -3,\n",
              " 5,\n",
              " -1,\n",
              " 0,\n",
              " 0,\n",
              " 3,\n",
              " 3,\n",
              " -7,\n",
              " 0,\n",
              " 0,\n",
              " 3,\n",
              " 0,\n",
              " 6,\n",
              " 12,\n",
              " -6,\n",
              " 7,\n",
              " 4,\n",
              " -4,\n",
              " 0,\n",
              " -4,\n",
              " 3,\n",
              " 1,\n",
              " 6,\n",
              " 4,\n",
              " 5,\n",
              " -2,\n",
              " 0,\n",
              " -2,\n",
              " 4,\n",
              " 1,\n",
              " 0,\n",
              " -3,\n",
              " 0,\n",
              " 1,\n",
              " 3,\n",
              " -1,\n",
              " 0,\n",
              " 3,\n",
              " 0,\n",
              " 0,\n",
              " 0,\n",
              " 1,\n",
              " 1,\n",
              " -1,\n",
              " 3,\n",
              " 0,\n",
              " 1,\n",
              " 6,\n",
              " 2,\n",
              " 0,\n",
              " 3,\n",
              " 0,\n",
              " 2,\n",
              " 0,\n",
              " -11,\n",
              " 5,\n",
              " 4,\n",
              " 6,\n",
              " 4,\n",
              " 0,\n",
              " 0,\n",
              " 3,\n",
              " 0,\n",
              " 0,\n",
              " 3,\n",
              " 2,\n",
              " 0,\n",
              " 3,\n",
              " 3,\n",
              " 1,\n",
              " 6,\n",
              " -2,\n",
              " 0,\n",
              " 0,\n",
              " 2,\n",
              " 0,\n",
              " -2,\n",
              " 2,\n",
              " -13,\n",
              " 4,\n",
              " 5,\n",
              " -3,\n",
              " 3,\n",
              " 2,\n",
              " -1,\n",
              " 2,\n",
              " 7,\n",
              " 7,\n",
              " 0,\n",
              " 0,\n",
              " -4,\n",
              " -2,\n",
              " -1,\n",
              " 0,\n",
              " 4,\n",
              " 11,\n",
              " 3,\n",
              " -6,\n",
              " 1,\n",
              " 0,\n",
              " 0,\n",
              " -3,\n",
              " 2,\n",
              " 1,\n",
              " 0,\n",
              " 0,\n",
              " 0,\n",
              " 1,\n",
              " -3,\n",
              " 3,\n",
              " 2,\n",
              " 0,\n",
              " 4,\n",
              " 2,\n",
              " -1,\n",
              " 1,\n",
              " 8,\n",
              " -1,\n",
              " 0,\n",
              " 0,\n",
              " 0,\n",
              " 0,\n",
              " 0,\n",
              " -1,\n",
              " -3,\n",
              " 2,\n",
              " 0,\n",
              " 3,\n",
              " 2,\n",
              " 0,\n",
              " 5,\n",
              " 8,\n",
              " -2,\n",
              " 0,\n",
              " 0,\n",
              " 0,\n",
              " 0,\n",
              " 0,\n",
              " 0,\n",
              " 6,\n",
              " 0,\n",
              " -2,\n",
              " 0,\n",
              " 0,\n",
              " 2,\n",
              " 3,\n",
              " 4,\n",
              " 4,\n",
              " 3,\n",
              " 6,\n",
              " 0,\n",
              " 0,\n",
              " 0,\n",
              " -2,\n",
              " 3,\n",
              " 2,\n",
              " 3,\n",
              " 3,\n",
              " 3,\n",
              " 3,\n",
              " -3,\n",
              " 1,\n",
              " -8,\n",
              " 0,\n",
              " 2,\n",
              " 3,\n",
              " 3,\n",
              " -3,\n",
              " 0,\n",
              " 7,\n",
              " 1,\n",
              " 9,\n",
              " 1,\n",
              " 4,\n",
              " 0,\n",
              " 5,\n",
              " 4,\n",
              " 0,\n",
              " -3,\n",
              " -1,\n",
              " 3,\n",
              " 6,\n",
              " -3,\n",
              " 3,\n",
              " 0,\n",
              " 0,\n",
              " 3,\n",
              " 3,\n",
              " 10,\n",
              " 0,\n",
              " 0,\n",
              " 12,\n",
              " 1,\n",
              " -4,\n",
              " 4,\n",
              " 3,\n",
              " -2,\n",
              " 0,\n",
              " 0,\n",
              " 3,\n",
              " 0,\n",
              " 0,\n",
              " 5,\n",
              " 0,\n",
              " 0,\n",
              " -1,\n",
              " 0,\n",
              " 3,\n",
              " 0,\n",
              " 3,\n",
              " 3,\n",
              " 2,\n",
              " 5,\n",
              " 4,\n",
              " 2,\n",
              " 0,\n",
              " 0,\n",
              " 2,\n",
              " -2,\n",
              " 0,\n",
              " 0,\n",
              " 0,\n",
              " 0,\n",
              " 3,\n",
              " 4,\n",
              " 0,\n",
              " 5,\n",
              " -2,\n",
              " 0,\n",
              " 4,\n",
              " 6,\n",
              " 0,\n",
              " 0,\n",
              " 1,\n",
              " -3,\n",
              " 4,\n",
              " 0,\n",
              " -1,\n",
              " 6,\n",
              " 3,\n",
              " 5,\n",
              " -4,\n",
              " 3,\n",
              " 2,\n",
              " 2,\n",
              " -4,\n",
              " 1,\n",
              " -1,\n",
              " 0,\n",
              " 0,\n",
              " 5,\n",
              " 5,\n",
              " 0,\n",
              " 1,\n",
              " 3,\n",
              " 0,\n",
              " 0,\n",
              " 0,\n",
              " 0,\n",
              " 2,\n",
              " 3,\n",
              " 2,\n",
              " 3,\n",
              " -1,\n",
              " -7,\n",
              " 0,\n",
              " 3,\n",
              " -2,\n",
              " 6,\n",
              " 5,\n",
              " 3,\n",
              " 4,\n",
              " 0,\n",
              " -8,\n",
              " 3,\n",
              " 0,\n",
              " 0,\n",
              " 2,\n",
              " 0,\n",
              " 5,\n",
              " 7,\n",
              " 0,\n",
              " 5,\n",
              " 0,\n",
              " 5,\n",
              " 6,\n",
              " 0,\n",
              " -7,\n",
              " -2,\n",
              " -2,\n",
              " 0,\n",
              " 7,\n",
              " -2,\n",
              " 0,\n",
              " 2,\n",
              " 4,\n",
              " 0,\n",
              " 4,\n",
              " 0,\n",
              " 0,\n",
              " 5,\n",
              " 4,\n",
              " 2,\n",
              " 3,\n",
              " 2,\n",
              " -2,\n",
              " 2,\n",
              " 0,\n",
              " -2,\n",
              " 0,\n",
              " 3,\n",
              " 4,\n",
              " 2,\n",
              " 0,\n",
              " -2,\n",
              " 0,\n",
              " 2,\n",
              " 4,\n",
              " 2,\n",
              " 0,\n",
              " 8,\n",
              " 7,\n",
              " -4,\n",
              " 2,\n",
              " 5,\n",
              " -1,\n",
              " -4,\n",
              " 5,\n",
              " 0,\n",
              " 3,\n",
              " 2,\n",
              " -2,\n",
              " 4,\n",
              " 6,\n",
              " 1,\n",
              " 1,\n",
              " 2,\n",
              " 0,\n",
              " 3,\n",
              " -9,\n",
              " 0,\n",
              " 0,\n",
              " -13,\n",
              " 2,\n",
              " 0,\n",
              " 12,\n",
              " 0,\n",
              " 3,\n",
              " -1,\n",
              " 3,\n",
              " 0,\n",
              " 3,\n",
              " 1,\n",
              " 3,\n",
              " 0,\n",
              " -3,\n",
              " 0,\n",
              " 1,\n",
              " 1,\n",
              " -3,\n",
              " 4,\n",
              " 0,\n",
              " 4,\n",
              " 9,\n",
              " -2,\n",
              " 2,\n",
              " 6,\n",
              " 6,\n",
              " -5,\n",
              " 2,\n",
              " 3,\n",
              " 0,\n",
              " 1,\n",
              " 0,\n",
              " -9,\n",
              " 2,\n",
              " 0,\n",
              " 1,\n",
              " -1,\n",
              " 1,\n",
              " -2,\n",
              " 3,\n",
              " 0,\n",
              " 0,\n",
              " 0,\n",
              " -1,\n",
              " -4,\n",
              " 6,\n",
              " 1,\n",
              " 6,\n",
              " 0,\n",
              " 6,\n",
              " 2,\n",
              " -1,\n",
              " 5,\n",
              " 0,\n",
              " -1,\n",
              " 3,\n",
              " -2,\n",
              " 0,\n",
              " -2,\n",
              " 13,\n",
              " 2,\n",
              " 0,\n",
              " 5,\n",
              " 1,\n",
              " 2,\n",
              " 1,\n",
              " 0,\n",
              " -4,\n",
              " 7,\n",
              " -7,\n",
              " 2,\n",
              " 3,\n",
              " 10,\n",
              " 6,\n",
              " 1,\n",
              " 3,\n",
              " -3,\n",
              " 1,\n",
              " 3,\n",
              " -6,\n",
              " -2,\n",
              " 0,\n",
              " -4,\n",
              " -3,\n",
              " 4,\n",
              " 2,\n",
              " -2,\n",
              " 0,\n",
              " 0,\n",
              " 1,\n",
              " 2,\n",
              " 0,\n",
              " 0,\n",
              " 2,\n",
              " 0,\n",
              " 0,\n",
              " 0,\n",
              " 0,\n",
              " 1,\n",
              " -2,\n",
              " 3,\n",
              " 0,\n",
              " 2,\n",
              " -2,\n",
              " 0,\n",
              " 0,\n",
              " -3,\n",
              " 6,\n",
              " 1,\n",
              " 0,\n",
              " 0,\n",
              " 0,\n",
              " -13,\n",
              " 3,\n",
              " 3,\n",
              " 0,\n",
              " 7,\n",
              " 3,\n",
              " 3,\n",
              " 6,\n",
              " 3,\n",
              " -2,\n",
              " 2,\n",
              " 0,\n",
              " 3,\n",
              " 0,\n",
              " -4,\n",
              " 1,\n",
              " 0,\n",
              " 3,\n",
              " 0,\n",
              " 1,\n",
              " 2,\n",
              " 3,\n",
              " 8,\n",
              " 3,\n",
              " 0,\n",
              " 0,\n",
              " -3,\n",
              " 5,\n",
              " -2,\n",
              " -2,\n",
              " 3,\n",
              " 4,\n",
              " -2,\n",
              " 6,\n",
              " -3,\n",
              " 0,\n",
              " 0,\n",
              " 4,\n",
              " 0,\n",
              " 2,\n",
              " 0,\n",
              " 1,\n",
              " 6,\n",
              " 0,\n",
              " 7,\n",
              " 2,\n",
              " 2,\n",
              " 6,\n",
              " 0,\n",
              " 0,\n",
              " 0,\n",
              " 0,\n",
              " -3,\n",
              " 0,\n",
              " 4,\n",
              " -4,\n",
              " 0,\n",
              " 4,\n",
              " -5,\n",
              " 5,\n",
              " -3,\n",
              " 5,\n",
              " 3,\n",
              " 0,\n",
              " 4,\n",
              " 5,\n",
              " -3,\n",
              " 0,\n",
              " 0,\n",
              " 0,\n",
              " 3,\n",
              " 0,\n",
              " 2,\n",
              " 0,\n",
              " -1,\n",
              " 8,\n",
              " 2,\n",
              " -5,\n",
              " 0,\n",
              " 11,\n",
              " -7,\n",
              " -1,\n",
              " 0,\n",
              " 0,\n",
              " 0,\n",
              " 0,\n",
              " 6,\n",
              " 0,\n",
              " -3,\n",
              " 3,\n",
              " 0,\n",
              " 0,\n",
              " 3,\n",
              " -3,\n",
              " 0,\n",
              " 4,\n",
              " 0,\n",
              " -2,\n",
              " 0,\n",
              " 8,\n",
              " 0,\n",
              " 3,\n",
              " 3,\n",
              " 4,\n",
              " -2,\n",
              " 1,\n",
              " 0,\n",
              " 0,\n",
              " 2,\n",
              " 3,\n",
              " 0,\n",
              " -1,\n",
              " 0,\n",
              " -3,\n",
              " 2,\n",
              " 2,\n",
              " 0,\n",
              " 2,\n",
              " 5,\n",
              " -2,\n",
              " -1,\n",
              " 3,\n",
              " 0,\n",
              " -1,\n",
              " 0,\n",
              " 0,\n",
              " -2,\n",
              " 0,\n",
              " -2,\n",
              " -4,\n",
              " -8,\n",
              " 3,\n",
              " 3,\n",
              " -2,\n",
              " 2,\n",
              " 7,\n",
              " -2,\n",
              " 0,\n",
              " 3,\n",
              " 5,\n",
              " 2,\n",
              " 0,\n",
              " 0,\n",
              " 5,\n",
              " 0,\n",
              " 0,\n",
              " 4,\n",
              " 4,\n",
              " 0,\n",
              " 0,\n",
              " 3,\n",
              " 3,\n",
              " 0,\n",
              " 3,\n",
              " 2,\n",
              " 3,\n",
              " -3,\n",
              " -3,\n",
              " 5,\n",
              " 0,\n",
              " 0,\n",
              " 3,\n",
              " 3,\n",
              " 0,\n",
              " 0,\n",
              " 0,\n",
              " 0,\n",
              " 0,\n",
              " 2,\n",
              " 0,\n",
              " 7,\n",
              " 0,\n",
              " 11,\n",
              " 3,\n",
              " 0,\n",
              " 3,\n",
              " -2,\n",
              " -4,\n",
              " 0,\n",
              " 0,\n",
              " -3,\n",
              " -2,\n",
              " 6,\n",
              " 8,\n",
              " 4,\n",
              " 2,\n",
              " 8,\n",
              " 8,\n",
              " 4,\n",
              " 4,\n",
              " 3,\n",
              " 0,\n",
              " 0,\n",
              " 3,\n",
              " 9,\n",
              " 0,\n",
              " -2,\n",
              " 2,\n",
              " -6,\n",
              " 0,\n",
              " 0,\n",
              " 4,\n",
              " 0,\n",
              " -3,\n",
              " 0,\n",
              " 5,\n",
              " 3,\n",
              " 5,\n",
              " 1,\n",
              " 5,\n",
              " 0,\n",
              " 0,\n",
              " 2,\n",
              " 6,\n",
              " 0,\n",
              " -1,\n",
              " 0,\n",
              " 2,\n",
              " 3,\n",
              " 10,\n",
              " -3,\n",
              " 11,\n",
              " 0,\n",
              " 0,\n",
              " 0,\n",
              " 0,\n",
              " 6,\n",
              " -2,\n",
              " 0,\n",
              " -3,\n",
              " 0,\n",
              " 0,\n",
              " 8,\n",
              " -2,\n",
              " 6,\n",
              " -3,\n",
              " 6,\n",
              " 1,\n",
              " 6,\n",
              " -3,\n",
              " 0,\n",
              " 0,\n",
              " 0,\n",
              " 0,\n",
              " 3,\n",
              " 6,\n",
              " -2,\n",
              " 11,\n",
              " 0,\n",
              " -3,\n",
              " 3,\n",
              " 3,\n",
              " 2,\n",
              " 0,\n",
              " 0,\n",
              " 0,\n",
              " -4,\n",
              " 2,\n",
              " 4,\n",
              " -2,\n",
              " -1,\n",
              " 2,\n",
              " 0,\n",
              " 3,\n",
              " 0,\n",
              " ...]"
            ]
          },
          "metadata": {
            "tags": []
          },
          "execution_count": 24
        }
      ]
    },
    {
      "cell_type": "code",
      "metadata": {
        "id": "ZLFKpeM_xycQ"
      },
      "source": [
        "strength_df = pd.DataFrame({'Strength':strength,'Tweet':corpus})"
      ],
      "execution_count": null,
      "outputs": []
    },
    {
      "cell_type": "code",
      "metadata": {
        "colab": {
          "base_uri": "https://localhost:8080/",
          "height": 195
        },
        "id": "DGzPangfyI2B",
        "outputId": "ecd94b2b-6a88-444d-92fb-c8d085682ae5"
      },
      "source": [
        "strength_df.head()"
      ],
      "execution_count": null,
      "outputs": [
        {
          "output_type": "execute_result",
          "data": {
            "text/html": [
              "<div>\n",
              "<style scoped>\n",
              "    .dataframe tbody tr th:only-of-type {\n",
              "        vertical-align: middle;\n",
              "    }\n",
              "\n",
              "    .dataframe tbody tr th {\n",
              "        vertical-align: top;\n",
              "    }\n",
              "\n",
              "    .dataframe thead th {\n",
              "        text-align: right;\n",
              "    }\n",
              "</style>\n",
              "<table border=\"1\" class=\"dataframe\">\n",
              "  <thead>\n",
              "    <tr style=\"text-align: right;\">\n",
              "      <th></th>\n",
              "      <th>Strength</th>\n",
              "      <th>Tweet</th>\n",
              "    </tr>\n",
              "  </thead>\n",
              "  <tbody>\n",
              "    <tr>\n",
              "      <th>0</th>\n",
              "      <td>-6</td>\n",
              "      <td>father dysfunctional selfish drags kids dysfun...</td>\n",
              "    </tr>\n",
              "    <tr>\n",
              "      <th>1</th>\n",
              "      <td>2</td>\n",
              "      <td>thanks lyft credit cant use cause dont offer w...</td>\n",
              "    </tr>\n",
              "    <tr>\n",
              "      <th>2</th>\n",
              "      <td>0</td>\n",
              "      <td>bihday majesty</td>\n",
              "    </tr>\n",
              "    <tr>\n",
              "      <th>3</th>\n",
              "      <td>3</td>\n",
              "      <td>model love u take u time ur</td>\n",
              "    </tr>\n",
              "    <tr>\n",
              "      <th>4</th>\n",
              "      <td>1</td>\n",
              "      <td>factsguide society motivation</td>\n",
              "    </tr>\n",
              "  </tbody>\n",
              "</table>\n",
              "</div>"
            ],
            "text/plain": [
              "   Strength                                              Tweet\n",
              "0        -6  father dysfunctional selfish drags kids dysfun...\n",
              "1         2  thanks lyft credit cant use cause dont offer w...\n",
              "2         0                                     bihday majesty\n",
              "3         3                        model love u take u time ur\n",
              "4         1                      factsguide society motivation"
            ]
          },
          "metadata": {
            "tags": []
          },
          "execution_count": 26
        }
      ]
    },
    {
      "cell_type": "code",
      "metadata": {
        "colab": {
          "base_uri": "https://localhost:8080/",
          "height": 314
        },
        "id": "hVNrLhKoyQvb",
        "outputId": "a580735d-4cbd-439c-ac9d-c2e94f811683"
      },
      "source": [
        "strength_df.hist(bins=10, color='green')"
      ],
      "execution_count": null,
      "outputs": [
        {
          "output_type": "execute_result",
          "data": {
            "text/plain": [
              "array([[<matplotlib.axes._subplots.AxesSubplot object at 0x7f47b22ce208>]],\n",
              "      dtype=object)"
            ]
          },
          "metadata": {
            "tags": []
          },
          "execution_count": 27
        },
        {
          "output_type": "display_data",
          "data": {
            "image/png": "[encoded data removed]",
            "text/plain": [
              "<Figure size 432x288 with 1 Axes>"
            ]
          },
          "metadata": {
            "tags": [],
            "needs_background": "light"
          }
        }
      ]
    },
    {
      "cell_type": "code",
      "metadata": {
        "id": "h0nAm0uxzEwg"
      },
      "source": [
        "from nltk.corpus import stopwords\r\n",
        "from sklearn.feature_extraction.text import TfidfVectorizer\r\n",
        "\r\n",
        "vectorizer = TfidfVectorizer(max_features=2500, min_df=7, max_df=0.8, stop_words=stopwords.words('english'))\r\n",
        "processed_df = vectorizer.fit_transform(corpus).toarray()"
      ],
      "execution_count": null,
      "outputs": []
    },
    {
      "cell_type": "code",
      "metadata": {
        "colab": {
          "base_uri": "https://localhost:8080/"
        },
        "id": "3fADWO7QLCB8",
        "outputId": "11d0f985-ee91-418f-f87a-d2bbacb401a1"
      },
      "source": [
        "one = data[data['label']=='1']\r\n",
        "zero = data[data['label']=='0']\r\n",
        "\r\n",
        "print(one.shape)\r\n",
        "print(zero.shape)"
      ],
      "execution_count": null,
      "outputs": [
        {
          "output_type": "stream",
          "text": [
            "(2242, 2)\n",
            "(29720, 2)\n"
          ],
          "name": "stdout"
        }
      ]
    },
    {
      "cell_type": "code",
      "metadata": {
        "colab": {
          "base_uri": "https://localhost:8080/"
        },
        "id": "4U3aGj6FJ4yV",
        "outputId": "fd9275a8-5064-4849-bf7b-2e785e611abe"
      },
      "source": [
        "from imblearn.under_sampling import NearMiss\r\n",
        "\r\n",
        "nm = NearMiss(random_state=42)\r\n",
        "X_res,y_res = nm.fit_sample(processed_df,data.label)\r\n",
        "print(X_res.shape)\r\n",
        "print(y_res.shape)"
      ],
      "execution_count": null,
      "outputs": [
        {
          "output_type": "stream",
          "text": [
            "/usr/local/lib/python3.6/dist-packages/sklearn/utils/deprecation.py:87: FutureWarning: Function safe_indexing is deprecated; safe_indexing is deprecated in version 0.22 and will be removed in version 0.24.\n",
            "  warnings.warn(msg, category=FutureWarning)\n",
            "/usr/local/lib/python3.6/dist-packages/sklearn/utils/deprecation.py:87: FutureWarning: Function safe_indexing is deprecated; safe_indexing is deprecated in version 0.22 and will be removed in version 0.24.\n",
            "  warnings.warn(msg, category=FutureWarning)\n",
            "/usr/local/lib/python3.6/dist-packages/sklearn/utils/deprecation.py:87: FutureWarning: Function safe_indexing is deprecated; safe_indexing is deprecated in version 0.22 and will be removed in version 0.24.\n",
            "  warnings.warn(msg, category=FutureWarning)\n"
          ],
          "name": "stderr"
        },
        {
          "output_type": "stream",
          "text": [
            "(4484, 2500)\n",
            "(4484,)\n"
          ],
          "name": "stdout"
        }
      ]
    },
    {
      "cell_type": "code",
      "metadata": {
        "colab": {
          "base_uri": "https://localhost:8080/"
        },
        "id": "ZVEzEybyJVxW",
        "outputId": "bb59d319-1742-4f5f-9c7a-0f6cf735dfb3"
      },
      "source": [
        "from sklearn.model_selection import train_test_split\r\n",
        "\r\n",
        "X_train,X_test,y_train,y_test = train_test_split(X_res,y_res,test_size=0.2,random_state=0)\r\n",
        "print(X_train.shape)\r\n",
        "print(X_test.shape)\r\n",
        "print(y_train.shape)\r\n",
        "print(y_test.shape)"
      ],
      "execution_count": null,
      "outputs": [
        {
          "output_type": "stream",
          "text": [
            "(3587, 2500)\n",
            "(897, 2500)\n",
            "(3587,)\n",
            "(897,)\n"
          ],
          "name": "stdout"
        }
      ]
    },
    {
      "cell_type": "code",
      "metadata": {
        "colab": {
          "base_uri": "https://localhost:8080/"
        },
        "id": "jdwW3zzaN776",
        "outputId": "fd2aeae2-7d66-4a83-c270-f32307e1091f"
      },
      "source": [
        "type(y_test[1])"
      ],
      "execution_count": null,
      "outputs": [
        {
          "output_type": "execute_result",
          "data": {
            "text/plain": [
              "numpy.int64"
            ]
          },
          "metadata": {
            "tags": []
          },
          "execution_count": 48
        }
      ]
    },
    {
      "cell_type": "markdown",
      "metadata": {
        "id": "-fUaFwe5dSQI"
      },
      "source": [
        "Random Forest\r\n"
      ]
    },
    {
      "cell_type": "code",
      "metadata": {
        "colab": {
          "base_uri": "https://localhost:8080/"
        },
        "id": "LJJoNYlUOFmN",
        "outputId": "c0498f6b-e7a7-4ac3-f037-967f4c4bb7b3"
      },
      "source": [
        "from sklearn.ensemble import RandomForestClassifier\r\n",
        "\r\n",
        "clf = RandomForestClassifier(n_estimators=200, random_state=0)\r\n",
        "clf.fit(X_train,y_train)"
      ],
      "execution_count": null,
      "outputs": [
        {
          "output_type": "execute_result",
          "data": {
            "text/plain": [
              "RandomForestClassifier(bootstrap=True, ccp_alpha=0.0, class_weight=None,\n",
              "                       criterion='gini', max_depth=None, max_features='auto',\n",
              "                       max_leaf_nodes=None, max_samples=None,\n",
              "                       min_impurity_decrease=0.0, min_impurity_split=None,\n",
              "                       min_samples_leaf=1, min_samples_split=2,\n",
              "                       min_weight_fraction_leaf=0.0, n_estimators=200,\n",
              "                       n_jobs=None, oob_score=False, random_state=0, verbose=0,\n",
              "                       warm_start=False)"
            ]
          },
          "metadata": {
            "tags": []
          },
          "execution_count": 49
        }
      ]
    },
    {
      "cell_type": "code",
      "metadata": {
        "id": "MbHQQqdpc26q"
      },
      "source": [
        "predictions = clf.predict(X_test)"
      ],
      "execution_count": null,
      "outputs": []
    },
    {
      "cell_type": "code",
      "metadata": {
        "colab": {
          "base_uri": "https://localhost:8080/"
        },
        "id": "PjjexQOtcK1j",
        "outputId": "145b85c9-7f1d-48e1-b68a-3e348f9296d1"
      },
      "source": [
        "from sklearn.metrics import classification_report, confusion_matrix, accuracy_score\r\n",
        "\r\n",
        "print(classification_report(y_test,predictions))\r\n",
        "print(confusion_matrix(y_test,predictions))\r\n",
        "print(accuracy_score(y_test,predictions))"
      ],
      "execution_count": null,
      "outputs": [
        {
          "output_type": "stream",
          "text": [
            "              precision    recall  f1-score   support\n",
            "\n",
            "           0       0.81      0.86      0.84       466\n",
            "           1       0.84      0.79      0.81       431\n",
            "\n",
            "    accuracy                           0.83       897\n",
            "   macro avg       0.83      0.82      0.83       897\n",
            "weighted avg       0.83      0.83      0.83       897\n",
            "\n",
            "[[402  64]\n",
            " [ 92 339]]\n",
            "0.8260869565217391\n"
          ],
          "name": "stdout"
        }
      ]
    },
    {
      "cell_type": "markdown",
      "metadata": {
        "id": "opCjI81zdYQf"
      },
      "source": [
        "Naive Bayes"
      ]
    },
    {
      "cell_type": "code",
      "metadata": {
        "id": "LnZzw35KdFdx"
      },
      "source": [
        ""
      ],
      "execution_count": null,
      "outputs": []
    }
  ]
}